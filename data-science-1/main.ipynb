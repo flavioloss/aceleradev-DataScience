{
 "cells": [
  {
   "cell_type": "markdown",
   "metadata": {},
   "source": [
    "# Desafio 3\n",
    "\n",
    "Neste desafio, iremos praticar nossos conhecimentos sobre distribuições de probabilidade. Para isso,\n",
    "dividiremos este desafio em duas partes:\n",
    "    \n",
    "1. A primeira parte contará com 3 questões sobre um *data set* artificial com dados de uma amostra normal e\n",
    "    uma binomial.\n",
    "2. A segunda parte será sobre a análise da distribuição de uma variável do _data set_ [Pulsar Star](https://archive.ics.uci.edu/ml/datasets/HTRU2), contendo 2 questões.\n",
    "\n",
    "> Obs.: Por favor, não modifique o nome das funções de resposta."
   ]
  },
  {
   "cell_type": "markdown",
   "metadata": {},
   "source": [
    "## _Setup_ geral"
   ]
  },
  {
   "cell_type": "code",
   "execution_count": 138,
   "metadata": {},
   "outputs": [],
   "source": [
    "import pandas as pd\n",
    "import matplotlib.pyplot as plt\n",
    "import numpy as np\n",
    "import scipy.stats as sct\n",
    "import seaborn as sns\n",
    "from statsmodels.distributions.empirical_distribution import ECDF"
   ]
  },
  {
   "cell_type": "code",
   "execution_count": 139,
   "metadata": {},
   "outputs": [],
   "source": [
    "#%matplotlib inline\n",
    "\n",
    "from IPython.core.pylabtools import figsize\n",
    "\n",
    "\n",
    "figsize(12, 8)\n",
    "\n",
    "sns.set()"
   ]
  },
  {
   "cell_type": "markdown",
   "metadata": {},
   "source": [
    "## Parte 1"
   ]
  },
  {
   "cell_type": "markdown",
   "metadata": {},
   "source": [
    "### _Setup_ da parte 1"
   ]
  },
  {
   "cell_type": "code",
   "execution_count": 140,
   "metadata": {},
   "outputs": [],
   "source": [
    "np.random.seed(42)\n",
    "    \n",
    "dataframe = pd.DataFrame({\"normal\": sct.norm.rvs(20, 4, size=10000),\n",
    "                     \"binomial\": sct.binom.rvs(100, 0.2, size=10000)})"
   ]
  },
  {
   "cell_type": "markdown",
   "metadata": {},
   "source": [
    "## Inicie sua análise a partir da parte 1 a partir daqui"
   ]
  },
  {
   "cell_type": "code",
   "execution_count": 141,
   "metadata": {
    "scrolled": true
   },
   "outputs": [
    {
     "data": {
      "text/html": [
       "<div>\n",
       "<style scoped>\n",
       "    .dataframe tbody tr th:only-of-type {\n",
       "        vertical-align: middle;\n",
       "    }\n",
       "\n",
       "    .dataframe tbody tr th {\n",
       "        vertical-align: top;\n",
       "    }\n",
       "\n",
       "    .dataframe thead th {\n",
       "        text-align: right;\n",
       "    }\n",
       "</style>\n",
       "<table border=\"1\" class=\"dataframe\">\n",
       "  <thead>\n",
       "    <tr style=\"text-align: right;\">\n",
       "      <th></th>\n",
       "      <th>normal</th>\n",
       "      <th>binomial</th>\n",
       "    </tr>\n",
       "  </thead>\n",
       "  <tbody>\n",
       "    <tr>\n",
       "      <th>0</th>\n",
       "      <td>21.986857</td>\n",
       "      <td>18</td>\n",
       "    </tr>\n",
       "    <tr>\n",
       "      <th>1</th>\n",
       "      <td>19.446943</td>\n",
       "      <td>15</td>\n",
       "    </tr>\n",
       "    <tr>\n",
       "      <th>2</th>\n",
       "      <td>22.590754</td>\n",
       "      <td>14</td>\n",
       "    </tr>\n",
       "    <tr>\n",
       "      <th>3</th>\n",
       "      <td>26.092119</td>\n",
       "      <td>15</td>\n",
       "    </tr>\n",
       "    <tr>\n",
       "      <th>4</th>\n",
       "      <td>19.063387</td>\n",
       "      <td>21</td>\n",
       "    </tr>\n",
       "    <tr>\n",
       "      <th>5</th>\n",
       "      <td>19.063452</td>\n",
       "      <td>14</td>\n",
       "    </tr>\n",
       "    <tr>\n",
       "      <th>6</th>\n",
       "      <td>26.316851</td>\n",
       "      <td>18</td>\n",
       "    </tr>\n",
       "    <tr>\n",
       "      <th>7</th>\n",
       "      <td>23.069739</td>\n",
       "      <td>23</td>\n",
       "    </tr>\n",
       "    <tr>\n",
       "      <th>8</th>\n",
       "      <td>18.122102</td>\n",
       "      <td>18</td>\n",
       "    </tr>\n",
       "    <tr>\n",
       "      <th>9</th>\n",
       "      <td>22.170240</td>\n",
       "      <td>23</td>\n",
       "    </tr>\n",
       "  </tbody>\n",
       "</table>\n",
       "</div>"
      ],
      "text/plain": [
       "      normal  binomial\n",
       "0  21.986857        18\n",
       "1  19.446943        15\n",
       "2  22.590754        14\n",
       "3  26.092119        15\n",
       "4  19.063387        21\n",
       "5  19.063452        14\n",
       "6  26.316851        18\n",
       "7  23.069739        23\n",
       "8  18.122102        18\n",
       "9  22.170240        23"
      ]
     },
     "execution_count": 141,
     "metadata": {},
     "output_type": "execute_result"
    }
   ],
   "source": [
    "# Sua análise da parte 1 começa aqui.\n",
    "dataframe.head(10)"
   ]
  },
  {
   "cell_type": "code",
   "execution_count": 142,
   "metadata": {},
   "outputs": [
    {
     "data": {
      "text/plain": [
       "<matplotlib.axes._subplots.AxesSubplot at 0x7f8eb75d5090>"
      ]
     },
     "execution_count": 142,
     "metadata": {},
     "output_type": "execute_result"
    },
    {
     "data": {
      "image/png": "[encoded data removed]",
      "text/plain": [
       "<Figure size 864x576 with 1 Axes>"
      ]
     },
     "metadata": {},
     "output_type": "display_data"
    }
   ],
   "source": [
    "dataframe['binomial'].hist(bins=30)"
   ]
  },
  {
   "cell_type": "markdown",
   "metadata": {},
   "source": [
    "## Questão 1\n",
    "\n",
    "Qual a diferença entre os quartis (Q1, Q2 e Q3) das variáveis `normal` e `binomial` de `dataframe`? Responda como uma tupla de três elementos arredondados para três casas decimais.\n",
    "\n",
    "Em outra palavras, sejam `q1_norm`, `q2_norm` e `q3_norm` os quantis da variável `normal` e `q1_binom`, `q2_binom` e `q3_binom` os quantis da variável `binom`, qual a diferença `(q1_norm - q1 binom, q2_norm - q2_binom, q3_norm - q3_binom)`?"
   ]
  },
  {
   "cell_type": "code",
   "execution_count": 171,
   "metadata": {},
   "outputs": [
    {
     "data": {
      "text/plain": [
       "(0.31, -0.01, -0.316)"
      ]
     },
     "execution_count": 171,
     "metadata": {},
     "output_type": "execute_result"
    }
   ],
   "source": [
    "def q1():\n",
    "    # Retorne aqui o resultado da questão 1.\n",
    "    q1_norm = dataframe.normal.quantile(q=0.25)\n",
    "    q2_norm = dataframe.normal.quantile(q=0.50)\n",
    "    q3_norm = dataframe.normal.quantile(q=0.75)\n",
    "    \n",
    "    q1_binom = dataframe.binomial.quantile(q=0.25)\n",
    "    q2_binom = dataframe.binomial.quantile(q=0.50)\n",
    "    q3_binom = dataframe.binomial.quantile(q=0.75)\n",
    "    \n",
    "    return tuple((round(q1_norm - q1_binom, 3),\n",
    "                  round(q2_norm - q2_binom, 3),\n",
    "                  round(q3_norm - q3_binom, 3)))"
   ]
  },
  {
   "cell_type": "markdown",
   "metadata": {},
   "source": [
    "Para refletir:\n",
    "\n",
    "* Você esperava valores dessa magnitude?\n",
    "\n",
    "* Você é capaz de explicar como distribuições aparentemente tão diferentes (discreta e contínua, por exemplo) conseguem dar esses valores?"
   ]
  },
  {
   "cell_type": "markdown",
   "metadata": {},
   "source": [
    "## Questão 2\n",
    "\n",
    "Considere o intervalo $[\\bar{x} - s, \\bar{x} + s]$, onde $\\bar{x}$ é a média amostral e $s$ é o desvio padrão. Qual a probabilidade nesse intervalo, calculada pela função de distribuição acumulada empírica (CDF empírica) da variável `normal`? Responda como uma único escalar arredondado para três casas decimais."
   ]
  },
  {
   "cell_type": "code",
   "execution_count": 168,
   "metadata": {},
   "outputs": [],
   "source": [
    "def q2():\n",
    "    # Retorne aqui o resultado da questão 2.\n",
    "    soma = dataframe.normal.mean() + dataframe.normal.std()\n",
    "    sub = dataframe.normal.mean() - dataframe.normal.std()\n",
    "    \n",
    "    \n",
    "    empiric = ECDF(dataframe.normal)\n",
    "    \n",
    "    return float(round(empiric(soma) - empiric(sub), 3))"
   ]
  },
  {
   "cell_type": "markdown",
   "metadata": {},
   "source": [
    "Para refletir:\n",
    "\n",
    "* Esse valor se aproxima do esperado teórico?\n",
    "* Experimente também para os intervalos $[\\bar{x} - 2s, \\bar{x} + 2s]$ e $[\\bar{x} - 3s, \\bar{x} + 3s]$."
   ]
  },
  {
   "cell_type": "markdown",
   "metadata": {},
   "source": [
    "## Questão 3\n",
    "\n",
    "Qual é a diferença entre as médias e as variâncias das variáveis `binomial` e `normal`? Responda como uma tupla de dois elementos arredondados para três casas decimais.\n",
    "\n",
    "Em outras palavras, sejam `m_binom` e `v_binom` a média e a variância da variável `binomial`, e `m_norm` e `v_norm` a média e a variância da variável `normal`. Quais as diferenças `(m_binom - m_norm, v_binom - v_norm)`?"
   ]
  },
  {
   "cell_type": "code",
   "execution_count": 165,
   "metadata": {},
   "outputs": [
    {
     "data": {
      "text/plain": [
       "(0.106, 0.22)"
      ]
     },
     "execution_count": 165,
     "metadata": {},
     "output_type": "execute_result"
    }
   ],
   "source": [
    "def q3():\n",
    "    # Retorne aqui o resultado da questão 3.\n",
    "    dif_mean = dataframe.binomial.mean() - dataframe.normal.mean()\n",
    "    dif_var = dataframe.binomial.var() - dataframe.normal.var()\n",
    "    return tuple((round(dif_mean, 3), round(dif_var, 3)))"
   ]
  },
  {
   "cell_type": "markdown",
   "metadata": {},
   "source": [
    "Para refletir:\n",
    "\n",
    "* Você esperava valore dessa magnitude?\n",
    "* Qual o efeito de aumentar ou diminuir $n$ (atualmente 100) na distribuição da variável `binomial`?"
   ]
  },
  {
   "cell_type": "markdown",
   "metadata": {},
   "source": [
    "## Parte 2"
   ]
  },
  {
   "cell_type": "markdown",
   "metadata": {},
   "source": [
    "### _Setup_ da parte 2"
   ]
  },
  {
   "cell_type": "code",
   "execution_count": 146,
   "metadata": {},
   "outputs": [],
   "source": [
    "stars = pd.read_csv(\"pulsar_stars.csv\")\n",
    "\n",
    "stars.rename({old_name: new_name\n",
    "              for (old_name, new_name)\n",
    "              in zip(stars.columns,\n",
    "                     [\"mean_profile\", \"sd_profile\", \"kurt_profile\", \"skew_profile\", \"mean_curve\", \"sd_curve\", \"kurt_curve\", \"skew_curve\", \"target\"])\n",
    "             },\n",
    "             axis=1, inplace=True)\n",
    "\n",
    "stars.loc[:, \"target\"] = stars.target.astype(bool)"
   ]
  },
  {
   "cell_type": "markdown",
   "metadata": {},
   "source": [
    "## Inicie sua análise da parte 2 a partir daqui"
   ]
  },
  {
   "cell_type": "markdown",
   "metadata": {},
   "source": [
    "## Questão 4\n",
    "\n",
    "Considerando a variável `mean_profile` de `stars`:\n",
    "\n",
    "1. Filtre apenas os valores de `mean_profile` onde `target == 0` (ou seja, onde a estrela não é um pulsar).\n",
    "2. Padronize a variável `mean_profile` filtrada anteriormente para ter média 0 e variância 1.\n",
    "\n",
    "Chamaremos a variável resultante de `false_pulsar_mean_profile_standardized`.\n",
    "\n",
    "Encontre os quantis teóricos para uma distribuição normal de média 0 e variância 1 para 0.80, 0.90 e 0.95 através da função `norm.ppf()` disponível em `scipy.stats`.\n",
    "\n",
    "Quais as probabilidade associadas a esses quantis utilizando a CDF empírica da variável `false_pulsar_mean_profile_standardized`? Responda como uma tupla de três elementos arredondados para três casas decimais."
   ]
  },
  {
   "cell_type": "code",
   "execution_count": 162,
   "metadata": {},
   "outputs": [
    {
     "data": {
      "text/plain": [
       "(0.806, 0.911, 0.959)"
      ]
     },
     "execution_count": 162,
     "metadata": {},
     "output_type": "execute_result"
    }
   ],
   "source": [
    "def q4():\n",
    "    # Retorne aqui o resultado da questão 4.\n",
    "    new_var = stars[stars['target'] == False]['mean_profile']\n",
    "    norm = sct.zscore(new_var, ddof=1)\n",
    "    \n",
    "        \n",
    "    e1 = round(sct.norm.ppf(0.80, norm.mean(), norm.std()), 3)\n",
    "    \n",
    "    e2 = round(sct.norm.ppf(0.90, norm.mean(), norm.std()), 3)\n",
    "    \n",
    "    e3 = round(sct.norm.ppf(0.95, norm.mean(), norm.std()), 3)\n",
    "    \n",
    "    empiric = ECDF(norm)\n",
    "    \n",
    "    \n",
    "    \n",
    "    return tuple((round(empiric(e1), 3), round(empiric(e2), 3), round(empiric(e3), 3)))"
   ]
  },
  {
   "cell_type": "markdown",
   "metadata": {},
   "source": [
    "Para refletir:\n",
    "\n",
    "* Os valores encontrados fazem sentido?\n",
    "* O que isso pode dizer sobre a distribuição da variável `false_pulsar_mean_profile_standardized`?"
   ]
  },
  {
   "cell_type": "markdown",
   "metadata": {},
   "source": [
    "## Questão 5\n",
    "\n",
    "Qual a diferença entre os quantis Q1, Q2 e Q3 de `false_pulsar_mean_profile_standardized` e os mesmos quantis teóricos de uma distribuição normal de média 0 e variância 1? Responda como uma tupla de três elementos arredondados para três casas decimais."
   ]
  },
  {
   "cell_type": "code",
   "execution_count": 148,
   "metadata": {},
   "outputs": [],
   "source": [
    "def q5():\n",
    "    # Retorne aqui o resultado da questão 5.\n",
    "    new_var = stars[stars['target'] == False]['mean_profile']\n",
    "    false_pulsar_mean_profile_standardized = []\n",
    "    for item in new_var.values:\n",
    "        false_pulsar_mean_profile_standardized.append((item - new_var.mean()) / new_var.std())\n",
    "    \n",
    "    q1 = np.quantile(false_pulsar_mean_profile_standardized, q=0.25)\n",
    "    q2 = np.quantile(false_pulsar_mean_profile_standardized, q=0.50)\n",
    "    q3 = np.quantile(false_pulsar_mean_profile_standardized, q=0.75)\n",
    "    \n",
    "    dist = sct.norm.rvs(loc=0, scale=1, size=10000)\n",
    "    \n",
    "    q1_norm = sct.norm.ppf(0.25, loc=0, scale=1)\n",
    "    q2_norm = sct.norm.ppf(0.50, loc=0, scale=1)\n",
    "    q3_norm = sct.norm.ppf(0.75, loc=0, scale=1)\n",
    "    \n",
    "    return tuple((round(q1 - q1_norm, 3), round(q2 - q2_norm, 3), round(q3 - q3_norm, 3)))"
   ]
  },
  {
   "cell_type": "markdown",
   "metadata": {},
   "source": [
    "Para refletir:\n",
    "\n",
    "* Os valores encontrados fazem sentido?\n",
    "* O que isso pode dizer sobre a distribuição da variável `false_pulsar_mean_profile_standardized`?\n",
    "* Curiosidade: alguns testes de hipóteses sobre normalidade dos dados utilizam essa mesma abordagem."
   ]
  }
 ],
 "metadata": {
  "kernelspec": {
   "display_name": "Python 3",
   "language": "python",
   "name": "python3"
  },
  "language_info": {
   "codemirror_mode": {
    "name": "ipython",
    "version": 3
   },
   "file_extension": ".py",
   "mimetype": "text/x-python",
   "name": "python",
   "nbconvert_exporter": "python",
   "pygments_lexer": "ipython3",
   "version": "3.7.7"
  }
 },
 "nbformat": 4,
 "nbformat_minor": 4
}
